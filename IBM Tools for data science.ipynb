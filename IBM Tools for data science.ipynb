{
 "cells": [
  {
   "cell_type": "markdown",
   "id": "ce9bd7ca",
   "metadata": {},
   "source": [
    "# **Tools for Data Science**"
   ]
  },
  {
   "cell_type": "markdown",
   "id": "83633f84",
   "metadata": {},
   "source": [
    "## introduction\n",
    "This is a jupyter notebbok about **Tools for Data Science**"
   ]
  },
  {
   "cell_type": "markdown",
   "id": "6873fc59",
   "metadata": {},
   "source": [
    "## Main languages for Data Science\n",
    "- Python\n",
    "- R\n",
    "- SQL\n",
    "## Another Languages\n",
    "- Java\n",
    "- C++\n",
    "- Scala\n",
    "- Javascript\n",
    "- etc"
   ]
  },
  {
   "cell_type": "markdown",
   "id": "979d2d07",
   "metadata": {},
   "source": [
    "## **Data Scioence libraries**\n",
    "### Python\n",
    "- matplotlib\n",
    "- numpy\n",
    "- pandas\n",
    "- tensorflow\n",
    "- scipy\n",
    "- skllearn\n",
    "### R\n",
    "- ggplot"
   ]
  },
  {
   "cell_type": "markdown",
   "id": "d7c34295",
   "metadata": {},
   "source": [
    "## Data Science tools\n",
    "|Data management|Data Integration|Model building|\n",
    "|---------------|----------------|--------------|\n",
    "|IBM Db2|PowerCenter|SPSS Modeler|\n",
    "|Oracle Database|IBm InfoSphere|SAS enterpriser miner|\n",
    "|Microsoft SQL Server| | |\n"
   ]
  },
  {
   "cell_type": "code",
   "execution_count": 7,
   "id": "0b75626c",
   "metadata": {},
   "outputs": [
    {
     "data": {
      "text/plain": [
       "40"
      ]
     },
     "execution_count": 7,
     "metadata": {},
     "output_type": "execute_result"
    }
   ],
   "source": [
    "5* 5 +15"
   ]
  },
  {
   "cell_type": "code",
   "execution_count": 12,
   "id": "2daa4714",
   "metadata": {},
   "outputs": [
    {
     "data": {
      "text/plain": [
       "30"
      ]
     },
     "execution_count": 12,
     "metadata": {},
     "output_type": "execute_result"
    }
   ],
   "source": [
    "def MultiAdd(a,b,c):\n",
    "    return a*b+c\n",
    "\n",
    "MultiAdd(5,5,5)"
   ]
  },
  {
   "cell_type": "code",
   "execution_count": 11,
   "id": "3cf49e8f",
   "metadata": {},
   "outputs": [
    {
     "data": {
      "text/plain": [
       "3.05"
      ]
     },
     "execution_count": 11,
     "metadata": {},
     "output_type": "execute_result"
    }
   ],
   "source": [
    "def MinutesToHours(time):\n",
    "    return time/60\n",
    "\n",
    "MinutesToHours(183)"
   ]
  },
  {
   "cell_type": "markdown",
   "id": "031ca841",
   "metadata": {},
   "source": [
    "## Objetives\n",
    "- Make money\n",
    "- Make more money\n",
    "- Why not more and more money?\n"
   ]
  },
  {
   "cell_type": "markdown",
   "id": "3a863993",
   "metadata": {},
   "source": [
    "## Author: Felipe Antonio"
   ]
  }
 ],
 "metadata": {
  "kernelspec": {
   "display_name": "Python 3 (ipykernel)",
   "language": "python",
   "name": "python3"
  },
  "language_info": {
   "codemirror_mode": {
    "name": "ipython",
    "version": 3
   },
   "file_extension": ".py",
   "mimetype": "text/x-python",
   "name": "python",
   "nbconvert_exporter": "python",
   "pygments_lexer": "ipython3",
   "version": "3.10.9"
  }
 },
 "nbformat": 4,
 "nbformat_minor": 5
}
